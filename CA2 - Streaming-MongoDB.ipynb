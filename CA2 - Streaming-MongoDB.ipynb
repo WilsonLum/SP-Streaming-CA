{
 "cells": [
  {
   "cell_type": "code",
   "execution_count": 1,
   "metadata": {},
   "outputs": [],
   "source": [
    "import pandas as pd\n",
    "import findspark\n",
    "\n",
    "import pymongo\n",
    "from pymongo import MongoClient\n",
    "\n",
    "findspark.init()"
   ]
  },
  {
   "cell_type": "code",
   "execution_count": 2,
   "metadata": {},
   "outputs": [],
   "source": [
    "from pyspark.sql import SparkSession\n",
    "spark = SparkSession.builder.master(\"local[2]\").appName(\"CA2\").getOrCreate()"
   ]
  },
  {
   "cell_type": "code",
   "execution_count": 3,
   "metadata": {},
   "outputs": [],
   "source": [
    "from pyspark.sql.types import *\n",
    "\n",
    "filePath = \"data\"\n",
    "schema = StructType().add(\"product_id\", \"integer\").add(\"quantity\", \"integer\").add(\"time\", \"timestamp\")\n",
    "sdf = spark.readStream.schema(schema).csv(filePath)"
   ]
  },
  {
   "cell_type": "code",
   "execution_count": 4,
   "metadata": {},
   "outputs": [
    {
     "data": {
      "text/plain": [
       "<pyspark.sql.streaming.StreamingQuery at 0x1ec0f81ff08>"
      ]
     },
     "execution_count": 4,
     "metadata": {},
     "output_type": "execute_result"
    }
   ],
   "source": [
    "query = sdf.writeStream.outputMode(\"append\").format(\"console\")\n",
    "query.start()"
   ]
  },
  {
   "cell_type": "code",
   "execution_count": 5,
   "metadata": {},
   "outputs": [
    {
     "data": {
      "text/plain": [
       "<pyspark.sql.streaming.StreamingQuery at 0x1ec0f874848>"
      ]
     },
     "execution_count": 5,
     "metadata": {},
     "output_type": "execute_result"
    }
   ],
   "source": [
    "from pyspark.sql.functions import window,desc\n",
    "\n",
    "window = sdf.withWatermark(\"time\", \"3 minutes\").groupBy(window(sdf.time, \"60 seconds\")).sum('quantity')\n",
    "window = window.sort(desc(\"window\"))\n",
    "\n",
    "\n",
    "def store_aggregated_data(row):\n",
    "    \n",
    "    try:\n",
    "        client = MongoClient()\n",
    "        # Get the database\n",
    "        db = client.bakeinc\n",
    "        collection = db.user\n",
    "\n",
    "        data = {}\n",
    "        \n",
    "        time_window      = str(row[\"window\"][\"start\"])\n",
    "        num_transactions = int(row[\"sum(quantity)\"])\n",
    "\n",
    "        data['num_transactions'] = num_transactions\n",
    "        data['time_window']      = time_window\n",
    "        \n",
    "        query = {'time_window': time_window}\n",
    "        \n",
    "        try:\n",
    "            x = collection.find(query).next()\n",
    "            collection.update_one(query,{\"$set\" : data})\n",
    "        except StopIteration:\n",
    "            collection.insert_one(data)\n",
    "        \n",
    "        print(\"Data Inserted\")\n",
    "            \n",
    "    except KeyboardInterrupt:\n",
    "        print(\"Keyboard Interrupted ...\")\n",
    "        sys.exit()\n",
    "        \n",
    "    except:\n",
    "        import sys\n",
    "        print(\"Error in store_aggregated_data\")\n",
    "        print(sys.exc_info()[0])\n",
    "        print(sys.exc_info()[1])\n",
    "\n",
    "\n",
    "agg_sdf = window.writeStream.outputMode(\"complete\").foreach(store_aggregated_data)\n",
    "agg_sdf.start()\n",
    "\n"
   ]
  },
  {
   "cell_type": "code",
   "execution_count": null,
   "metadata": {},
   "outputs": [],
   "source": []
  }
 ],
 "metadata": {
  "kernelspec": {
   "display_name": "Python 3",
   "language": "python",
   "name": "python3"
  },
  "language_info": {
   "codemirror_mode": {
    "name": "ipython",
    "version": 3
   },
   "file_extension": ".py",
   "mimetype": "text/x-python",
   "name": "python",
   "nbconvert_exporter": "python",
   "pygments_lexer": "ipython3",
   "version": "3.6.10"
  }
 },
 "nbformat": 4,
 "nbformat_minor": 2
}
